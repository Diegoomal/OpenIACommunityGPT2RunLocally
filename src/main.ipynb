{
 "cells": [
  {
   "cell_type": "markdown",
   "metadata": {},
   "source": [
    "<h1>How to use"
   ]
  },
  {
   "cell_type": "code",
   "execution_count": 1,
   "metadata": {},
   "outputs": [],
   "source": [
    "import tqdm"
   ]
  },
  {
   "cell_type": "code",
   "execution_count": 2,
   "metadata": {},
   "outputs": [
    {
     "name": "stderr",
     "output_type": "stream",
     "text": [
      "/home/mal/miniconda3/envs/project-env/lib/python3.10/site-packages/tqdm/auto.py:21: TqdmWarning: IProgress not found. Please update jupyter and ipywidgets. See https://ipywidgets.readthedocs.io/en/stable/user_install.html\n",
      "  from .autonotebook import tqdm as notebook_tqdm\n",
      "2024-02-24 21:30:40.208018: E external/local_xla/xla/stream_executor/cuda/cuda_dnn.cc:9261] Unable to register cuDNN factory: Attempting to register factory for plugin cuDNN when one has already been registered\n",
      "2024-02-24 21:30:40.208120: E external/local_xla/xla/stream_executor/cuda/cuda_fft.cc:607] Unable to register cuFFT factory: Attempting to register factory for plugin cuFFT when one has already been registered\n",
      "2024-02-24 21:30:40.212094: E external/local_xla/xla/stream_executor/cuda/cuda_blas.cc:1515] Unable to register cuBLAS factory: Attempting to register factory for plugin cuBLAS when one has already been registered\n",
      "2024-02-24 21:30:40.234189: I tensorflow/core/platform/cpu_feature_guard.cc:182] This TensorFlow binary is optimized to use available CPU instructions in performance-critical operations.\n",
      "To enable the following instructions: AVX2 FMA, in other operations, rebuild TensorFlow with the appropriate compiler flags.\n",
      "2024-02-24 21:30:41.217008: W tensorflow/compiler/tf2tensorrt/utils/py_utils.cc:38] TF-TRT Warning: Could not find TensorRT\n"
     ]
    }
   ],
   "source": [
    "from transformers import pipeline, set_seed"
   ]
  },
  {
   "cell_type": "code",
   "execution_count": 3,
   "metadata": {},
   "outputs": [],
   "source": [
    "set_seed(42)"
   ]
  },
  {
   "cell_type": "code",
   "execution_count": 4,
   "metadata": {},
   "outputs": [],
   "source": [
    "generator = pipeline('text-generation', model='gpt2')"
   ]
  },
  {
   "cell_type": "code",
   "execution_count": 5,
   "metadata": {},
   "outputs": [],
   "source": [
    "def get_file_content(file_path: str):\n",
    "    with open(file_path, 'r') as file:\n",
    "        return file.read()"
   ]
  },
  {
   "cell_type": "code",
   "execution_count": 6,
   "metadata": {},
   "outputs": [],
   "source": [
    "file_path = '../dataset/books_table_ex.html'"
   ]
  },
  {
   "cell_type": "code",
   "execution_count": 7,
   "metadata": {},
   "outputs": [],
   "source": [
    "file_content = get_file_content(file_path)"
   ]
  },
  {
   "cell_type": "code",
   "execution_count": 8,
   "metadata": {},
   "outputs": [],
   "source": [
    "prompt_template = f\"\"\"\n",
    "\n",
    "    context: <<<{ file_content[500:] }>>>\n",
    "\n",
    "    transform to json\n",
    "    \n",
    "\"\"\""
   ]
  },
  {
   "cell_type": "code",
   "execution_count": 9,
   "metadata": {},
   "outputs": [],
   "source": [
    "generator = pipeline('text-generation', model='gpt2')"
   ]
  },
  {
   "cell_type": "code",
   "execution_count": null,
   "metadata": {},
   "outputs": [
    {
     "name": "stderr",
     "output_type": "stream",
     "text": [
      "Truncation was not explicitly activated but `max_length` is provided a specific value, please use `truncation=True` to explicitly truncate examples to max length. Defaulting to 'longest_first' truncation strategy. If you encode pairs of sequences (GLUE-style) with the tokenizer you can select this strategy more precisely by providing a specific strategy to `truncation`.\n",
      "Setting `pad_token_id` to `eos_token_id`:50256 for open-end generation.\n"
     ]
    }
   ],
   "source": [
    "result = generator(prompt_template, max_length=1000, num_return_sequences=5)"
   ]
  },
  {
   "cell_type": "code",
   "execution_count": null,
   "metadata": {},
   "outputs": [
    {
     "data": {
      "text/plain": [
       "[{'generated_text': '\\n\\n    context: <<< df</td>\\n                <td>1.71 MB</td>\\n                <td>1,655,980</td>\\n                <td><a href=\"http://exemplo.com/a-divina-comedia\">Link</a></td>\\n                </tr>\\n                <tr>\\n                <td>Dom Quixote</td>\\n                <td>Miguel de Cervantes</td>\\n                <td>Gutenberg</td>\\n                <td>.epub</td>\\n                <td>2.35 MB</td>\\n                <td>2,100,350</td>\\n                <td><a href=\"http://exemplo.com/dom-quixote\">Link</a></td>\\n                </tr>\\n                <!-- Adicione mais linhas conforme necessário -->\\n        </tbody>\\n</table>\\n       >>>\\n\\n    transform to json\\n    \\n\\n{\\n\\n\"table\": { \"table_color\": \"black-grey\", \"table_column_color\": \"black\", \"table_cell_color\": \"black\", \"tbody\": \"This table represents the table used by the database that you will be using. The only exception is if you use the table only in the SELECT order, such as if you\\'re using it after a SELECT statement. Please note: If you use an entire table with a table id - such as a table named \"insert_post\", this will not work. If an entire table with a table id is not already set, then this does not apply, and for this use, one additional step must be carried out: Set all references to the parent table. For example, for a table named \"table_insert\" and which appears at the start of the table, call the function in the root of the table. Call the function where the table id is a cell within an entire table. If there is a cell in the table set in the table name, call the function in the root of the table. All the queries need to be done first in order for the records to change. If a record of type \"table_insert\" is already present in the database, the same operation will be used. In the following example, we simply write the following into the table, where we write the fields for \"cell\" and \"table\":\\n\\n\\n<table item1=\"table_insert\" item2=\"table_display_table\">\\n\\n<table item2=\"table_display_table\">\\n\\n<table item1=\"table_show\">\\n\\n<table item1=\"table_show_insert\"> <tr>\\n\\n<td id=\"table_display_table\" value=\"cell\" />\\n\\n</td>\\n\\n</tr>\\n\\n</table>\\n\\n</table>\\n\\n<select variable1=\"parent\" from column1=\"column1\" from column2=\"column2\" >\\n\\n<table column1=\"parent\" values=\"cell\" on=\"column1\" on=\"column2\"/>\\n\\n</select>\\n\\n</table>\\n\\n</table>\\n\\n<table item1=\"table_show\">\\n\\n<table item1=\"table_display_table\">\\n\\n<table item1=\"table_show_insert\"> <td id=\"table_display_table\" value=\"cell\" />\\n\\n</td>\\n\\n</table>\\n\\n<table item1=\"table_display_table\"> <table item1=\"table_display_table\">\\n\\n<tr>\\n\\n<td id=\"table_display_table\" value=\"cell\" />\\n\\n</td>\\n\\n</tr>'},\n",
       " {'generated_text': '\\n\\n    context: <<< df</td>\\n                <td>1.71 MB</td>\\n                <td>1,655,980</td>\\n                <td><a href=\"http://exemplo.com/a-divina-comedia\">Link</a></td>\\n                </tr>\\n                <tr>\\n                <td>Dom Quixote</td>\\n                <td>Miguel de Cervantes</td>\\n                <td>Gutenberg</td>\\n                <td>.epub</td>\\n                <td>2.35 MB</td>\\n                <td>2,100,350</td>\\n                <td><a href=\"http://exemplo.com/dom-quixote\">Link</a></td>\\n                </tr>\\n                <!-- Adicione mais linhas conforme necessário -->\\n        </tbody>\\n</table>\\n       >>>\\n\\n    transform to json\\n    \\n\\n>>> var c = New-Object Object.create({})\\n\\n>>> data = data.objects.get()\\n\\n>>> c.addObject(Object.class, ctype = \\'object\\', data)\\n\\n>>> c.addClass(C.class)\\n\\n>>> ctype = c.class\\n\\n>>> Data.prototype.data = ctype\\n\\n>>> var class = class.get( \\'type\\' )\\n\\n>>> >>> data = Data.objects.newArray(class.getObject() )\\n\\n>>> >>> c.setObject(Object.class)\\n\\n>>> c.setObject(\\'Miguel de Cervantes\\')\\n\\n>>> >>> ctype = C. class\\n\\n>>> Data.prototype.data = data?\\n\\n>>> >>> ctype = Class. class\\n\\n>>> >>> data = Data.objects.newArray(class.get( \\'type\\' ) )\\n\\n>>> >>> data = Data.objects.newArray(class.getObject() [ \\'type\\' ])[ \\'class\\' ])\\n\\n>>> >>> >>> ctype = Class. class\\n\\n>>> >>> >>> >>> type = Data.objects.newArray(\\'Miguel de Cervantes\\'())\\n\\n>>> >>> >>> ctype = Class. class\\n\\n>>> >>> >>> >>> x = Data.objects.newArray(type)\\n\\n>>> >>> >>> x.unmap(x, { \\'type\\': \\'Miguel com\\' })\\n\\n>>> >>> x.unmap(x, { \\'type\\': \\'object\\' })\\n\\n>>> >>> >>> class = class.get.class(data)\\n\\n>>> >>> x.unmap({ \\'type\\': \\'object\\' })\\n\\n>>> >>> >>> x.unmap(x, { \\'type\\': \\'object\\' })\\n\\n>>> >>> >>> x.unmap(x, class))\\n\\n\\ndata.objects.set([ \\'type\\', \\'file\\': \\'file.pdf\\' ])\\n\\n>>>\\n\\n<div class=\"poster\" id=\"dat/index\"\\n\\nhref=\"/data.pdf\">\\n\\n<input type=\"hidden\" name=\"value\"\\n\\nvalue=\"#\"\\n\\nsrc=\\'http://www.h-p.com/html/index.html\\'?\\n\\n<input type=\"hidden\" name=\"value\"\\n\\nvalue=\"#\"\\n\\nsrc=\\'http://www.h-p.com/html/index.html\\'?\\n\\n<input type=\"hidden\" name=\"value\"\\n\\nvalue=\"#\"\\n\\nsrc=\\'http://www.h-p.com/html/index.html\\'?\\n\\n<input type=\"hidden\" name=\"value'},\n",
       " {'generated_text': '\\n\\n    context: <<< df</td>\\n                <td>1.71 MB</td>\\n                <td>1,655,980</td>\\n                <td><a href=\"http://exemplo.com/a-divina-comedia\">Link</a></td>\\n                </tr>\\n                <tr>\\n                <td>Dom Quixote</td>\\n                <td>Miguel de Cervantes</td>\\n                <td>Gutenberg</td>\\n                <td>.epub</td>\\n                <td>2.35 MB</td>\\n                <td>2,100,350</td>\\n                <td><a href=\"http://exemplo.com/dom-quixote\">Link</a></td>\\n                </tr>\\n                <!-- Adicione mais linhas conforme necessário -->\\n        </tbody>\\n</table>\\n       >>>\\n\\n    transform to json\\n    \\n\\n<?php /**\\n\\n* --------\\xa0\\n\\n* ---------- Select all ids.\\n\\n* ----------\\n\\n* ----------\\n\\n* ---------- Select the ids by any id value\\n\\n* ----------\\n\\n*/\\n\\n$table = ( array ) new RegExp ( \"|=\", \\'\\' );\\n\\n/**\\n\\n* ----------\\n\\n* ---------- Use the following code\\n\\n* ----------\\n\\n* ----------\\n\\n* ----------\\n\\n* ----------\\n\\n*/\\n\\n$substr = $table -> newSubstr ( false );\\n\\nreturn $substr -> append (\\n\\n\\'\\n\\n\\'\\', \\'\\', \\'\\',\\n\\n\\'\\n\\n\\'\\n\\n\\'\\n\\n\\', \\'`\\n\\n\\', \\'`\\n\\n,\\'\\n\\n\\'`\\n\\n,\\'`\\n\\n,\\'\\n\\n\\'\\n\\n\\'\\n\\n,\\'`\\n\\n,\\'`\\n\\n,\\'`\\n\\n,\\'`\\n\\n,\\'\\n\\n, \\'`\\n\\n,\\'`\\n\\n, \\'`\\n\\n,\\'\\n\\n\\'`\\n\\n,\\'`\\n\\n,\\'`\\n\\n,\\'`\\n\\n,\\'`\\n\\n,\\'`\\n\\n,\\'`\\n\\n,\\'`\\n\\n,\\'`\\n\\n,\\'`\\n\\n,\\'`\\n\\n,\\'`\\n\\n,\\'`\\n\\n,\\'`\\n\\n,\\'`\\n\\n,\\' `\\n\\n,\\' `\\n\\n.\\'\\n\\n}\\n\\n}\\n\\n\\nfunction getId ( $name ) {\\n\\nreturn new Exp ( \\'|=\\', $name );\\n\\n\\n}\\n\\n\\n/* *\\n\\n* ----------\\n\\n* ----------\\n\\n* ---------- Select an ids as the value that the param must match.\\n\\n* ----------\\n\\n* ----------\\n\\n* ----------\\n\\n*/\\n\\n$table = \\'\\n\\n\\', $name = str (\\'|=\\', $name );\\n\\n\\nreturn RegArray (\\n\\n\\', str ( \" |=\", $name )) -> newSubstr ( false );\\n\\n\\n}\\n\\n\\n/* *\\n\\n* ----------\\n\\n* ---------- Select all the columns in the table.\\n\\n* ----------\\n\\n* ----------\\n\\n* ----------\\n\\n*/\\n\\n$table = ( array ) new RegExp ( \"|=\", \\'\\' );\\n\\n/**\\n\\n* ----------\\n\\n* ---------- Select the columns not present\\n\\n* ----------\\n\\n* ----------\\n\\n* ----------\\n\\n*/\\n\\n$table = ( array ) new RegExp ( \"|=\", \\'\\' );\\n\\n/**\\n\\n* ----------\\n\\n* ---------- Select only columns that have no characters\\n\\n* ----------\\n\\n* ----------\\n\\n'},\n",
       " {'generated_text': '\\n\\n    context: <<< df</td>\\n                <td>1.71 MB</td>\\n                <td>1,655,980</td>\\n                <td><a href=\"http://exemplo.com/a-divina-comedia\">Link</a></td>\\n                </tr>\\n                <tr>\\n                <td>Dom Quixote</td>\\n                <td>Miguel de Cervantes</td>\\n                <td>Gutenberg</td>\\n                <td>.epub</td>\\n                <td>2.35 MB</td>\\n                <td>2,100,350</td>\\n                <td><a href=\"http://exemplo.com/dom-quixote\">Link</a></td>\\n                </tr>\\n                <!-- Adicione mais linhas conforme necessário -->\\n        </tbody>\\n</table>\\n       >>>\\n\\n    transform to json\\n    \\n\\nclass A = Ansi({\"name\": \"foo\",\"value\": 1}, {\"class\": {\"class\": \"divina\"}});\\n\\n<ul><li><a href=\"http://exemplo.com/b-divina-comedia\"><img src=\"http://www.exemplo.com/images/divina/japantalina-content-2-1-d6b6d-8ea8-1e5e6c0e8c87.svg.html?vh=6&v=d8e9e95d5b-2fe7-4e31-9e0d-abf49f4ee5c9&z=785529551458&q=AqQi-bA6g-7Y2a5&sl=B6Bm9w-R7d4Dz8\"><img src=\"http://www.exemplo.com/images/divina/japantalina-content-2-1-d6b6d-8ea8-1e5e6c0e8c87.svg.html?vh=6&v=d8e9e95d5b-2fe7-4e31-9e0d-abf49f4ee5c9\" border=\"0\" style=\"background-color:#0D65F00\" class=\"divina\" type=\"mss b_image_type\" /><img src=\"http://www.exemplo.com/images/divina/japantalina-content-2-1-d6b6d-8ea8-1e5e6c0e8c87.svg.html?vh=6&v=d8e9e95d5b-2fe7-4e31-9e0d-abf49f4ee5c9\" border=0\" style=\"background-color:#FFF800\" class=\"form-size-small\" /><img src=\"http://www.exemplo.com/images/divina/japantalina-content-2-1-d6b6d-8ea8-1e5e6c0e8c87.svg.html?vh=6&v=d8e9e95d5b-2fe7-4e31-9e0d-abf49f4ee5c9\" border=0\" style=\"border:1px solid blue;\">\\n\\n<br /><br />\\n\\n<br'},\n",
       " {'generated_text': '\\n\\n    context: <<< df</td>\\n                <td>1.71 MB</td>\\n                <td>1,655,980</td>\\n                <td><a href=\"http://exemplo.com/a-divina-comedia\">Link</a></td>\\n                </tr>\\n                <tr>\\n                <td>Dom Quixote</td>\\n                <td>Miguel de Cervantes</td>\\n                <td>Gutenberg</td>\\n                <td>.epub</td>\\n                <td>2.35 MB</td>\\n                <td>2,100,350</td>\\n                <td><a href=\"http://exemplo.com/dom-quixote\">Link</a></td>\\n                </tr>\\n                <!-- Adicione mais linhas conforme necessário -->\\n        </tbody>\\n</table>\\n       >>>\\n\\n    transform to json\\n    \\n\\n>>> json\\n\\n>>> {}, {\\n\\n_id = \\'tb8\\'\\n\\n_column=\\'%s\\',\\n\\n_format=_str,\\n\\n_header=\\'text/html\\',\\n\\n_columnname=\\'subparagraph\\',\\n\\n_headertext=\\'comment\\',\\n\\n_columnnametext=\\'text\\',\\n\\n_max_size=\\'500,000\\',\\n\\n_linelength=\\'.7em\\',\\n\\n-\\n\\n-\\n\\n-\\n\\n\\'\\n\\n>\\'</field>\\n\\n</body>\\n\\n<ul id=\"form\"> </ul>... </ul>\\n\\n<!-- HTML5 Inputs --> <!--\\n\\n<!-- This text is parsed using the form inputs. You should replace the comments with the text as well. -->\\n\\n<ul id=\"form\"> <li class= \"divider\" ><a href= \"<label for= \"field1()\" key= \"field2()\" type= \"text/plain\">Field1</a>\">\\n\\n</button class= \"selections-input box label\" >\\n\\n<!-- Text output generated by the input. Click the preview to see it -->\\n\\n<script type= \"text/javascript\" src= \"https://www.drupal.org/js/input.js\"></script>\\n\\n<script src= \"https://www.drupal.org/src/output.js\"></script>\\n\\n</ul>\\n\\n<!-- Form Inputs -->...\\n\\n<!-- Form-inputs, with no description. -->\\n\\n<div id= \"input-template-contacts\" tab= \"text/template\" > <button type= \"button\" class= \"btn btn-primary\" button btn-link=\"/contact-contact.php\"></button>\\n\\n</div>\\n\\n... <ul class= \"form-input\" >\\n\\n</ul>... </ul>... </div>\\n\\n...\\n\\n-- --> <a href= \"https://example.com/\" >-->\\n\\n<img type= \"gif\" src= \"http://example.com/jpeg\" alt= \"http://example.com/jpeg:large\" />\\n\\n....\\n\\n-- --> <ul class= \"form-header\" >Selections from the Input-->\\n\\n<li class= \"divider\" ><a href= \" <a href= \"https://example.com/jpeg\" /></a ></li> </ul> <div class= \"form-md\" >... -->\\n\\n<!-- Select a single input element and return it to the Form\\n\\n-->\\n\\n<'}]"
      ]
     },
     "execution_count": 20,
     "metadata": {},
     "output_type": "execute_result"
    }
   ],
   "source": [
    "result"
   ]
  }
 ],
 "metadata": {
  "kernelspec": {
   "display_name": "project-env",
   "language": "python",
   "name": "python3"
  },
  "language_info": {
   "codemirror_mode": {
    "name": "ipython",
    "version": 3
   },
   "file_extension": ".py",
   "mimetype": "text/x-python",
   "name": "python",
   "nbconvert_exporter": "python",
   "pygments_lexer": "ipython3",
   "version": "3.10.13"
  }
 },
 "nbformat": 4,
 "nbformat_minor": 2
}
