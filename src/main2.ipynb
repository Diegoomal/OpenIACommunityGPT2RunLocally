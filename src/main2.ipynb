{
 "cells": [
  {
   "cell_type": "markdown",
   "metadata": {},
   "source": [
    "<h1>How to use"
   ]
  },
  {
   "cell_type": "code",
   "execution_count": 1,
   "metadata": {},
   "outputs": [],
   "source": [
    "import tqdm"
   ]
  },
  {
   "cell_type": "code",
   "execution_count": 2,
   "metadata": {},
   "outputs": [
    {
     "name": "stderr",
     "output_type": "stream",
     "text": [
      "/home/mal/miniconda3/envs/project-env/lib/python3.10/site-packages/tqdm/auto.py:21: TqdmWarning: IProgress not found. Please update jupyter and ipywidgets. See https://ipywidgets.readthedocs.io/en/stable/user_install.html\n",
      "  from .autonotebook import tqdm as notebook_tqdm\n",
      "2024-02-18 19:57:05.003342: E external/local_xla/xla/stream_executor/cuda/cuda_dnn.cc:9261] Unable to register cuDNN factory: Attempting to register factory for plugin cuDNN when one has already been registered\n",
      "2024-02-18 19:57:05.003423: E external/local_xla/xla/stream_executor/cuda/cuda_fft.cc:607] Unable to register cuFFT factory: Attempting to register factory for plugin cuFFT when one has already been registered\n",
      "2024-02-18 19:57:05.055392: E external/local_xla/xla/stream_executor/cuda/cuda_blas.cc:1515] Unable to register cuBLAS factory: Attempting to register factory for plugin cuBLAS when one has already been registered\n",
      "2024-02-18 19:57:05.163962: I tensorflow/core/platform/cpu_feature_guard.cc:182] This TensorFlow binary is optimized to use available CPU instructions in performance-critical operations.\n",
      "To enable the following instructions: AVX2 FMA, in other operations, rebuild TensorFlow with the appropriate compiler flags.\n",
      "2024-02-18 19:57:06.567703: W tensorflow/compiler/tf2tensorrt/utils/py_utils.cc:38] TF-TRT Warning: Could not find TensorRT\n"
     ]
    }
   ],
   "source": [
    "from transformers import pipeline, set_seed"
   ]
  },
  {
   "cell_type": "code",
   "execution_count": 3,
   "metadata": {},
   "outputs": [],
   "source": [
    "set_seed(42)"
   ]
  },
  {
   "cell_type": "code",
   "execution_count": 4,
   "metadata": {},
   "outputs": [],
   "source": [
    "generator = pipeline('text-generation', model='gpt2')"
   ]
  },
  {
   "cell_type": "code",
   "execution_count": 5,
   "metadata": {},
   "outputs": [],
   "source": [
    "def get_file_content(file_path: str):\n",
    "    with open(file_path, 'r') as file:\n",
    "        return file.read()"
   ]
  },
  {
   "cell_type": "code",
   "execution_count": 6,
   "metadata": {},
   "outputs": [],
   "source": [
    "file_path = '/home/mal/projects/python/machine_learning/llm_chat/QAChatbotOpenIACommunityGPT2/src/dataset/books_table_ex.html'"
   ]
  },
  {
   "cell_type": "code",
   "execution_count": 7,
   "metadata": {},
   "outputs": [],
   "source": [
    "file_content = get_file_content(file_path)"
   ]
  },
  {
   "cell_type": "code",
   "execution_count": 8,
   "metadata": {},
   "outputs": [],
   "source": [
    "prompt_template = f\"\"\"\n",
    "\n",
    "    context: <<< {file_content[500:]} >>>\n",
    "\n",
    "    transform to json\n",
    "    \n",
    "\"\"\""
   ]
  },
  {
   "cell_type": "code",
   "execution_count": 9,
   "metadata": {},
   "outputs": [],
   "source": [
    "generator = pipeline('text-generation', model='gpt2')"
   ]
  },
  {
   "cell_type": "code",
   "execution_count": 12,
   "metadata": {},
   "outputs": [
    {
     "name": "stderr",
     "output_type": "stream",
     "text": [
      "Setting `pad_token_id` to `eos_token_id`:50256 for open-end generation.\n"
     ]
    }
   ],
   "source": [
    "result = generator(prompt_template, max_length=1000, num_return_sequences=5)"
   ]
  },
  {
   "cell_type": "code",
   "execution_count": 11,
   "metadata": {},
   "outputs": [
    {
     "data": {
      "text/plain": [
       "[{'generated_text': '\\n\\n    context: <<< df</td>\\n                <td>1.71 MB</td>\\n                <td>1,655,980</td>\\n                <td><a href=\"http://exemplo.com/a-divina-comedia\">Link</a></td>\\n                </tr>\\n                <tr>\\n                <td>Dom Quixote</td>\\n                <td>Miguel de Cervantes</td>\\n                <td>Gutenberg</td>\\n                <td>.epub</td>\\n                <td>2.35 MB</td>\\n                <td>2,100,350</td>\\n                <td><a href=\"http://exemplo.com/dom-quixote\">Link</a></td>\\n                </tr>\\n                <!-- Adicione mais linhas conforme necessário -->\\n        </tbody>\\n</table>\\n       >>>\\n\\n    transform to json\\n    \\n\\n< td width=\"100%\" height=\"600\" cellpadding=\"0\" cellspacing=\"0\" >\\n\\n< tr>\\n\\n< img src=\"\" class=\"largeimg\" alt=\"\" class=\"largeleft\" />\\n\\n< /tr>\\n\\n... \\n\\n\\n/* Convert simple CSS elements to.embed or <script src=\\\\\"https://github.com\\\\u003dquixote.com\\\\u003d/quixote-cli.js\\\\\">script</script>.\\n\\n.\\n\\n.\\n\\n.\\n\\n.\\n\\nfunction createContentWithTemplate (\\n\\nparametype,\\n\\ndata) {\\n\\nconsole.log( \"createContentFromTemplate()\\n\\n\" );\\n\\n}\\n\\n\\nfunction convertHtmlToText (\\n\\ndata,\\n\\ndest,\\n\\ndata,\\n\\ntarget,\\n\\noptions,\\n\\noptions) {\\n\\nparameter;\\n\\ndata = data || (options!= NULL );\\n\\ndest = data;\\n\\nsource = source || (options!= NULL );\\n\\n}\\n\\n\\nfunction getCSSContentFromTemplate (data,\\n\\ndest,\\n\\ndest,\\n\\noptions,\\n\\noptions) {\\n\\ndest = data;\\n\\nsource = source || (options!= NULL );\\n\\n}\\n\\n\\nfunction buildCSSContentFromTemplate (data) {\\n\\nvar values = new Array (\\n\\ndest.name,\\n\\ndest.value,\\n\\ndest.dest_id,\\n\\nfunction ( value ) {\\n\\ncontent = data[value];\\n\\n});\\n\\n\\nconsole.log(\\'BuildCSSContentFromTemplate(\\' + dest + \\'.html\\')\\');\\n\\n}\\n\\n// Build the contents of the page to JavaScript\\n\\n.buildCSSContentFromTemplate([ data, \\'DOMContentLength\\',\\n\\ndest.dest_id, \\'DOMContentLength\\', \\'DOMContentLength\\', \\'DOMContentLength\\', \\'DOMContentLength\\', \\'DOMContentLength\\', \\'DjangoElement.DOM.DOMContentLength\\', \\'DjangoElement.DOMContentLength\\', \\'DjangoElement.DOMContentLength\\', \\'DOMContentLength\\', \\'domContentLength\\', \\'domainType\\', \\'domainName\\', \\'domainName\\', \\'domainURI\\', \\'fnsType\\', \\'domainNameName\\', \\'domainURI\\', \\'fnsFilter\\', \\'domainFileURI\\', \\'domContentLength\\', \\'domContentLength\\', \\'DOMContentLength\\', \\'DOMContentLength\\', \\'DOMContentLength\\', \\'DOMContentLength\\', \\'DOMContentLength\\', \\'domContentLength\\', \\'DOMContentLength\\' );\\n\\n\\n.compile() // Do the work for the content to be read.\\n\\n.js\\n\\n.dji\\n'},\n",
       " {'generated_text': '\\n\\n    context: <<< df</td>\\n                <td>1.71 MB</td>\\n                <td>1,655,980</td>\\n                <td><a href=\"http://exemplo.com/a-divina-comedia\">Link</a></td>\\n                </tr>\\n                <tr>\\n                <td>Dom Quixote</td>\\n                <td>Miguel de Cervantes</td>\\n                <td>Gutenberg</td>\\n                <td>.epub</td>\\n                <td>2.35 MB</td>\\n                <td>2,100,350</td>\\n                <td><a href=\"http://exemplo.com/dom-quixote\">Link</a></td>\\n                </tr>\\n                <!-- Adicione mais linhas conforme necessário -->\\n        </tbody>\\n</table>\\n       >>>\\n\\n    transform to json\\n    \\n\\n[type=\\'text\\', text=[]}\\n\\n\\n\\\\ [\\\\ r\\\\ + c} = \"\"\\n\\n\\n<table class=\"column-2\"><center><td width=\"95%\" top=\"45%\" margin=\"0\" fill=\"#6b6f0\" color=\"#5\" border=\"0\" cellspacing=\"#1\">\\n\\n<tr>\\n\\n<td width=\"100%\" alt=\"\" cellspacing=\"2\">\\n\\n<br/>\\n\\n<td rows=\"1\">\\n\\n<td class=\"row-left\"><p><b>Billionaire Paul Goulson.</b></p>\\n\\n\\n<br/>\\n\\n<div class=\"column-right\"><br/>\\n\\n\\n<strong class=\"border-top\" style=\"border: 0; border-right: 1px solid #ddd; border-bottom: 1px solid #858b5; float: left;\"><span class=\"text-row\"> </span></div>\\n\\n</td>\\n\\n\\n<td width=\"96%\" style=\"border: 0;\">\\n\\n<p>The former chairman of IBM was a staunch proponent of the Free Trade Zone. In fact he led efforts to establish the first independent trade zone, which he described as a \"super-zone\". Mr Goulson was a former president of RSC, the British investment bank. </p>\\n\\n\\n<div class=\"column-bottom\"><br/>\\n\\n\\n<span>\\n\\n\\nA man whose opinions are well respected by both trade groups in both countries and which have not only played a vital role in keeping the world to meet its aspirations, he has also provided policy advice as well as support for trade relations that had become so unpopular before the introduction of the Zone. </span>\\n\\n<table class=\"column-left\"><p><c type=\"text/plain\" value=\"<?xml version=\"1.0\" encoding=\"UTF-8\"?>\\n\\n<tr>\\n\\n</c>\\n\\n\\n<input type=\"checkbox\" name=\"checkbox\" value=\"<?xml version=\"1.1\" encoding=\"UTF-8\"?>\\n\\n\\n<td width=\"94%\" style=\"border: 0; border-bottom: 1px solid #ddd; border-left: 1px solid #858b5; width=\"96%\" class=\"text-small\">\\n\\n<li ><b>One of Dr. Goulson\\'s key positions at IBM was he advocated a free-trade zone with zero tariffs on imports and low tariff levels on exports. In this position, the only tariff to be imposed against Japan was the one on the non-trade zone.\\n\\n\\n<tr align=\"none\" width=\"1%\" style=\"border: 0;'},\n",
       " {'generated_text': '\\n\\n    context: <<< df</td>\\n                <td>1.71 MB</td>\\n                <td>1,655,980</td>\\n                <td><a href=\"http://exemplo.com/a-divina-comedia\">Link</a></td>\\n                </tr>\\n                <tr>\\n                <td>Dom Quixote</td>\\n                <td>Miguel de Cervantes</td>\\n                <td>Gutenberg</td>\\n                <td>.epub</td>\\n                <td>2.35 MB</td>\\n                <td>2,100,350</td>\\n                <td><a href=\"http://exemplo.com/dom-quixote\">Link</a></td>\\n                </tr>\\n                <!-- Adicione mais linhas conforme necessário -->\\n        </tbody>\\n</table>\\n       >>>\\n\\n    transform to json\\n    \\n\\n# #############################################################################\\n\\n# <p>\\n\\n# this is a wrapper around the domquisote.com http://exemplo.com http://exemplo2.com\\n\\n#\\n\\n# #############################################################################\\n\\n#         # http://exemplo2.com/index.php#domquisote.com/dom-quixote.html\\n\\n#       #           #\\n\\n# #############################################################################\\n\\n#       # https://exemplo2.com/contrast.php#domquisote/exemplo2/\\n\\n#              #\\n\\n#              #\\n\\n#               # \"I\" is the symbol (it is used to symbolize the object)\\n\\n#             #\\n\\n#               # \"T\" is the form (t is used to form a form or part of a\\n\\n# value) #\\n\\n#             # \"U\" is the form (u is a string to represent\\n\\n# a value) #\\n\\n#             #\\n\\n# #############################################################################\\n\\n#         # >>>\\n\\n# ##############################################################\\n\\n# <p>\\n\\n############################################################################\\n\\n# \"T,\" is the object in the form of a form, which will be used to form a form\\n\\n# on an HTML page (e.g., on the CSS page) (or the HTML document in the DOM).\\n\\n#\\n\\n# \\xa0I—I.—I.\\n\\n#\\n\\n# This expression is \"T\":\\n\\n# # \\\\d T is used to represent the tilde of an HTML statement (example: \"test\" is a word form)\\n\\n#\\n\\n# 心 is a string that must be followed by a character in it, usually a \"y;\" in many cases, it\\n\\n# translates to a \\\\-- in this case.\\n\\n#\\n\\n# The above example shows how the character \"z\\'\\' translates to the tilde of a given html statement. (In a sense, this means \"The word \"Z\"\\n\\n# in'},\n",
       " {'generated_text': '\\n\\n    context: <<< df</td>\\n                <td>1.71 MB</td>\\n                <td>1,655,980</td>\\n                <td><a href=\"http://exemplo.com/a-divina-comedia\">Link</a></td>\\n                </tr>\\n                <tr>\\n                <td>Dom Quixote</td>\\n                <td>Miguel de Cervantes</td>\\n                <td>Gutenberg</td>\\n                <td>.epub</td>\\n                <td>2.35 MB</td>\\n                <td>2,100,350</td>\\n                <td><a href=\"http://exemplo.com/dom-quixote\">Link</a></td>\\n                </tr>\\n                <!-- Adicione mais linhas conforme necessário -->\\n        </tbody>\\n</table>\\n       >>>\\n\\n    transform to json\\n    \\n\\nif (! file_exists ()) {\\n\\nassert ();\\n\\n// Save file names in a file name structure as attributes and store them in JSON.\\n\\n// Use file_exists()\\n\\nconst string format_identity = FormatStr ( format_identity, \"_{ \\\\\", \\'}\\\\\" \\\\\" }\\\\\" )? - 16 : FormatData ( string ( format_identity ))\\n\\n. replace_with ( string ( format_identity [ 0 ])) ;\\n\\n}\\n\\ndef format ( file_name, value ): for _, field in range ():\\n\\nif form [ field ][\\'value\\'] in file_name:\\n\\nvalue = format_identity [ field ]\\n\\nif value ==\\':\\': return JSON ( value ). encode ( encoding.UTF8 ( value )\\n\\n)\\n\\nvalue = value. ascii (\\'\\\\t\\') + format_identity [ - 1 ]\\n\\nif value ==\\';\\': return json(value). encode ( encoding.UTF8 ( value )\\n\\n)\\n\\nif value ==\\'/\\': return None\\n\\ndef decode_utf8 ( msg ):\\n\\nreturn encoding.UTF8 ( msg ) : decode_utf8 ( msg )\\n\\nif len ( msg ) > 1 :\\n\\nraise ValueError ( \" The character encoding of string was different than the default. \" )\\n\\nmsg = encoding.parse_utf8 ( msg )\\n\\nif msg ==\\'_\\': return {\\'\\' : msg}\\n\\nlen = len ( msg ) + 1 }\\n\\nelse :\\n\\nlen = msg\\n\\nreturn len ( value )\\n\\ndef get_str ( value ):\\n\\nf_d = f. write ( value )\\n\\nfor v in {\\' k\\':\\'%s\\'% v } do\\n\\nassert value == str ( v )\\n\\nif value > - 1 :\\n\\nreturn (\\'\\\\x00\\')\\n\\nelse :\\n\\nraise ValueError (\\'Value must be a string or non-Latin1 chars. \" )\\n\\nif str [ 0 ] is not None :\\n\\nreturn (\\'\\\\x00\\')\\n\\nelse :\\n\\nbreak\\n\\nif value > num_characters:\\n\\nraise ValueError (\\'Characters must be non-Latin1 characters. \" )\\n\\nif str [ 0 ] == \"\" :\\n\\nreturn ( \\'/\\' ) + str ( key (\\'r\\')) + 1, f_d + 1\\n\\nelse :\\n\\ndef r ( value, key ):\\n\\n# We\\'ve saved all the character strings, not all the string\\n\\n# strings. We'},\n",
       " {'generated_text': '\\n\\n    context: <<< df</td>\\n                <td>1.71 MB</td>\\n                <td>1,655,980</td>\\n                <td><a href=\"http://exemplo.com/a-divina-comedia\">Link</a></td>\\n                </tr>\\n                <tr>\\n                <td>Dom Quixote</td>\\n                <td>Miguel de Cervantes</td>\\n                <td>Gutenberg</td>\\n                <td>.epub</td>\\n                <td>2.35 MB</td>\\n                <td>2,100,350</td>\\n                <td><a href=\"http://exemplo.com/dom-quixote\">Link</a></td>\\n                </tr>\\n                <!-- Adicione mais linhas conforme necessário -->\\n        </tbody>\\n</table>\\n       >>>\\n\\n    transform to json\\n    \\n\\n<!-- A.I.s. echocorro por con mémo ação, en ser ida o ser élevate con mémo.de -->\\n\\n<select><br>\\n\\n<input type=\"text\" />\\n\\n<input type=\"email\" />\\n\\n<input type=\"password\" />\\n\\n<input type=\"password\" value=\"You must be an authenticated user on this email account. You can create an existing passcode or provide a private passcode as appropriate when you sign to this email account.\">\\n\\n<input type=\"text\" value=\"<input type=\"password\" value=\"Your password is entered on the form. In the input field, type the current value (you may choose a long, short, or double number). Press ENTER to continue.</value>\"\\n\\n<input type=\"submit\" type=\"submit\"><input type=\"password\" value=\"Your password is entered on the form. In the input field, type (if you haven\\'t entered it yet): Enter your custom passcode if you wish. Select the form title and type your desired public or private passcode.</password>\\n\\n</select>\\n\\n\\nTo create another passcode, paste in the text you entered on the form. Replace <input type=\"password\" VALUES=\"The following value is entered at the first time you enter this echomé code, it must be sent by yourself or with a verified secure e-mail account, we will provide this to ensure a good communication between other accounts on this account.\\n\\n\">\\n\\n<input type=\"password\" VALUES=\"Your password is entered at the first time you enter this echomé code, it must be sent by yourself or with a verified secure e-mail account, we will provide this to ensure a good communication between other accounts on this account. </input>\\n\\n\\n</select>\\n\\n</form>\\n\\n</td>\\n\\n--\\n\\n----\\n\\n-- A.I.s. el habile des mémoires.com\\n\\n--\\n\\n----\\n\\n-- (10,000 +)\\n\\n--\\n\\n-- I am a resident of United Kingdom, United States, Canada.\\n\\n--\\n\\n-- I am free to use this form to complete my payment processing and account setup, and I accept an acknowledgement that you, my partner, have used this form in doing so.\\n\\n--\\n\\n-- I am also a resident of England and Wales.\\n\\n\\n------\\n\\n------------------\\n\\n------\\n\\n\\nThis is a small application (no more than 40 files) for you to add to your PayPal account at the same time you add your current account details. If you are a current'},\n",
       " {'generated_text': '\\n\\n    context: <<< df</td>\\n                <td>1.71 MB</td>\\n                <td>1,655,980</td>\\n                <td><a href=\"http://exemplo.com/a-divina-comedia\">Link</a></td>\\n                </tr>\\n                <tr>\\n                <td>Dom Quixote</td>\\n                <td>Miguel de Cervantes</td>\\n                <td>Gutenberg</td>\\n                <td>.epub</td>\\n                <td>2.35 MB</td>\\n                <td>2,100,350</td>\\n                <td><a href=\"http://exemplo.com/dom-quixote\">Link</a></td>\\n                </tr>\\n                <!-- Adicione mais linhas conforme necessário -->\\n        </tbody>\\n</table>\\n       >>>\\n\\n    transform to json\\n    \\n\\nfunction table (\\n\\nsql_name, query, value ) {\\n\\nsql_name = sql_name + \"\\n\\n\" + query + \"\\n\\n\" + query + \"\\n\\n\" + value;\\n\\nvalue = \"\\\\\" \" );\\n\\nconst char * query =\\'\\\\\"\\'+ query + \" \\\\\"\\'+ value + \"\\' \" ;\\n\\nconst char * data = \" - \" + data + \" - \" + _data;\\n\\nSQL_SQLSET_ALLOW_KEY ( \" data \", SQL_PRINT_RIGHT );\\n\\n// Insert the query and the value into the table!\\n\\nreturn SQL_SQLSET_ALIGNED + Query (data, value);\\n\\n}\\n\\n\\nfunction make_sql ( t ) {\\n\\n$(\"#make\").append( \\'<form action=\"/sql.ps1\" x-width=\"10\" y-height=\"25\" >\\' + t);\\n\\n$(\"#make_query\").append( \\'<div id=\"results_in_table\" x_width=\"10\" y-height=\"25\" >\\' + t);\\n\\n\\n// To use a hashmap, we must use an array value\\n\\n// of elements\\n\\nkey, value=array(0\", 0, 2, 3);\\n\\n\\nfor (key = 0; key >= \\'\\\\\"; key--) {\\n\\nkey=key+1,\\n\\nvalue=value+2,\\n\\n// the only difference is that we have to use key on the first occurrence of the index and value to\\n\\n// change the key in place.\\n\\nif (key == 1) {\\n\\n// if we are trying to create an empty table, we can do this\\n\\nif (key == 2) {\\n\\n// the index and value cannot match!\\n\\n// do something different!\\n\\nkey = key+2;\\n\\n} else if (!key == 3) {\\n\\nbreak;\\n\\n}\\n\\n} else {\\n\\narray_t *result = hashmap_add(key, key->index, key->value);\\n\\nresult->index = key->value;\\n\\nresult->values[result->index] = value;\\n\\n}\\n\\n\\n$(\\'#make\\', function(results, value) {\\n\\nreturn results;\\n\\n};\\n\\n}); [function(t) { $(\"#maketable\").remove(t);\\n\\n} ]\\n\\n[function(t){var t=0, s=function(t){if (t){return}return t;return (T*=t);return 0===t?t:T*=t?T*'},\n",
       " {'generated_text': '\\n\\n    context: <<< df</td>\\n                <td>1.71 MB</td>\\n                <td>1,655,980</td>\\n                <td><a href=\"http://exemplo.com/a-divina-comedia\">Link</a></td>\\n                </tr>\\n                <tr>\\n                <td>Dom Quixote</td>\\n                <td>Miguel de Cervantes</td>\\n                <td>Gutenberg</td>\\n                <td>.epub</td>\\n                <td>2.35 MB</td>\\n                <td>2,100,350</td>\\n                <td><a href=\"http://exemplo.com/dom-quixote\">Link</a></td>\\n                </tr>\\n                <!-- Adicione mais linhas conforme necessário -->\\n        </tbody>\\n</table>\\n       >>>\\n\\n    transform to json\\n    \\n\\n<tr><td><input type=\"hidden\" name=\"description\">About this document</td><td><li id=\"http://exemplo.org/about\" name=\"document\">This document is based on the XML format</li></td>\\n\\n\\n</td></tr>\\n\\n<teletab><script src=\"http://google.com/webfonts/1.2.13/#tbe-1C0E-E1D-aC45-5E1EB4A7A1A4\" type=\"text/javascript\">\\n\\nfunction updateDl(title, date){\\n\\ndocument.location.href = \\'\\';\\n\\n} else {\\n\\ndocument.location.x = date.parseInt(0);\\n\\n}\\n\\n\\n}\\n\\n<tr><td><a href=\"http://www.reddit.com/r/TheHulkMeta/comments/7d8jkp/a_little_secret/\" id=\"redditSVqcWJ\" title=\"Unicode in V2\">Unicode in V2</a></td>\\n\\n#DIV/0 as @Pete_Ethan tweeted\\n\\n#DIV/0 as @Bobby_Johnson (@bobbyjohnson), @Cic_Podcast (@cicco_podcast), @Krnoop (@krnoop) and @Pete_Ethan (@fear of)'},\n",
       " {'generated_text': '\\n\\n    context: <<< df</td>\\n                <td>1.71 MB</td>\\n                <td>1,655,980</td>\\n                <td><a href=\"http://exemplo.com/a-divina-comedia\">Link</a></td>\\n                </tr>\\n                <tr>\\n                <td>Dom Quixote</td>\\n                <td>Miguel de Cervantes</td>\\n                <td>Gutenberg</td>\\n                <td>.epub</td>\\n                <td>2.35 MB</td>\\n                <td>2,100,350</td>\\n                <td><a href=\"http://exemplo.com/dom-quixote\">Link</a></td>\\n                </tr>\\n                <!-- Adicione mais linhas conforme necessário -->\\n        </tbody>\\n</table>\\n       >>>\\n\\n    transform to json\\n    \\n\\n{\\n\\n\\n[data:{ url: \\'https://www.example.org/users/jessica9\\', cache_path: \\'/sip/mysql\\', auth_key: \\'<HERE>/var/www/example.com?auth_key=yoh=yoh:b5:3f:5c:75b:3d:1e:4f:b5:b6\\'\\n\\n[data:{ url: \\'https://www.example.org/users/jessica9\\', cache_path: \\'/sip/mysql\\', auth_key: \\'<HERE>/var/www/example.com?auth_key=yoh=yoh:b5:3f:5c:75b:3d:1e:4f:b5:b6\\'\\n\\n[data:{ url: \\'https://www.example.org/users/jessica9/home/index.html\\', cache_path: \\'/sip/mysql\\', auth_key: \\'<HERE>/var/www/example.com?auth_key= yoh=yoh:b5:3f:5c:75b:3d:1e:4f:b5:b6\\'\\n\\n[data:{ URL: \\'http://hacked.net/files/\\' }, }]\\n\\n\\n[data:{ url: \\'https://www.example.org/people/jessica9\\', cache_path: \\'/sip/mysql\\', auth_key: \\'<HERE>/var/www/example.com?auth_key=yoh=yoh:b5:3f:5c:75b:3d:1e:4f:b5:b6\\';\\n\\n}]\\n\\n[data:{ url: \\'http://hacked.net/\\' }, }]\\n\\nThis will create a new JSON file called [data/], which will contain:\\n\\n{ \"query\" : \"http://www.example.org/people/\", \"namespace\" : [ [\"jessica9\"]], \"id\" : \"example\", \"query_name\" : \"http://www.example.org/people/jessica9/namespace \", \"query_substring\" : nil, \"scheme\" : \"\", \"title\" : \"www.example.org\" }\\n\\nI expect the data to look like this :\\\\0: [data/{ url: \\'https://www.example.org/people/jessica9\\', cache_path: \\'/sip'},\n",
       " {'generated_text': '\\n\\n    context: <<< df</td>\\n                <td>1.71 MB</td>\\n                <td>1,655,980</td>\\n                <td><a href=\"http://exemplo.com/a-divina-comedia\">Link</a></td>\\n                </tr>\\n                <tr>\\n                <td>Dom Quixote</td>\\n                <td>Miguel de Cervantes</td>\\n                <td>Gutenberg</td>\\n                <td>.epub</td>\\n                <td>2.35 MB</td>\\n                <td>2,100,350</td>\\n                <td><a href=\"http://exemplo.com/dom-quixote\">Link</a></td>\\n                </tr>\\n                <!-- Adicione mais linhas conforme necessário -->\\n        </tbody>\\n</table>\\n       >>>\\n\\n    transform to json\\n    \\n\\n<table name=\"exemplo_schema\" value=\"/posts/1115\" columns=\"3\"> <tr><td data-pagination-group=\"primary\">[10,10 + 6,3 + 18,3 + 19,3 + 22,3]</td>\\n\\n<tr > <td data-pagination-group=\"primary\">[11,11 + 3], {\"pg_text\":\"[10 + 6,3 + 4], \"text\":\"[10 + 6,3 + 2]\", \"text0\":\"[5,20 + 4,6]\", \"text1\":\"[10 + 6,3 + 4], \"text2\":\"[5,20 + 4,6]\", \"text3\":\"[10 + 5,6] +[10 + 5,6] \", \"text4\":\"[10 + 5,6] +[10 + 5,6] \", \"text5\":\"[10 + 6,3 + 4], \"text6\":\"[10 + 5,6] \"+[10 + 5,6]+\", \"text7\":\"[10 + 5,6] +[10 + 5,6]\", \"text8\":\"[10 + 5,6] \"+[10 + 5,6]+\" }, \"entry\": \"\", \"entry_title\": \"\", \"entry_img_container\": \"\", \"entry_img_header\": \"\", \"image_info_text\": \"\", \"link_url\": \"http://exemplo.com/exemplo-link.gif\", \"logo\": \"\", \"image_link\": \"\" }; //\\n\\n</tr>\" 〈 <table name=\"posters_class\" data-pagination-group=\"primary\"> <table class=\"example_posters\" table-name=\"posters_class.html\">\\n\\n<table name=\"exemplo_category_list\">\\n\\n<tr data-pagination-group=\"primary\" table-name=\"posters_category.html\">\\n\\n<td data-pagination-group=\"primary\" data-pagination-group=\"primary_text\"><td>\\n\\n<img src=\"https://image.exemplo.com/images/img/10.png\" alt=\"Exemplo: The Image\" alt=\\'Exemplo_Link\"/>\\n\\n<img src=\"https://image.exemplo.com/images/images/10.png\" alt=\"Exemplo: The Subcategory\" alt=\\'Exemplo_Link\"/>\\n\\n<img src=\"https://image.exemplo.com/images/images/10.png\" alt=\"'},\n",
       " {'generated_text': '\\n\\n    context: <<< df</td>\\n                <td>1.71 MB</td>\\n                <td>1,655,980</td>\\n                <td><a href=\"http://exemplo.com/a-divina-comedia\">Link</a></td>\\n                </tr>\\n                <tr>\\n                <td>Dom Quixote</td>\\n                <td>Miguel de Cervantes</td>\\n                <td>Gutenberg</td>\\n                <td>.epub</td>\\n                <td>2.35 MB</td>\\n                <td>2,100,350</td>\\n                <td><a href=\"http://exemplo.com/dom-quixote\">Link</a></td>\\n                </tr>\\n                <!-- Adicione mais linhas conforme necessário -->\\n        </tbody>\\n</table>\\n       >>>\\n\\n    transform to json\\n    \\n\\ntype\\n\\njson\\n\\nimport json\\n\\nimport re\\n\\nexport default\\n\\n\\nclass DomNode\\n\\n{\\n\\nclass name\\n\\nnamespace org.apache.common/dom_node\\n\\nclass alias\\n\\nalias. class name = name\\n\\nalias alias. class alias = alias. class alias. class! == alias. class (name)\\n\\nalias. alias alias alias alias. alias alias. alias alias. alias alias\\n\\nalias. __class__ alias. __class__\\n\\nclass aliases![\\n\\n[ \" : name\\n\\n: alias\\n\\n:\" alias \"\\n\\n]\\n\\nalias alias. class alias alias. alias._ alias._\\n\\nalias. alias._ aliases. class alias.\\n\\nalias. alias._ aliases. class alias._\\n\\nalias. alias._ alias._\\n\\nexport class\\n\\ndom_node {\\n\\nclass name {\\n\\nnamespace org.apache.common/dom_node_node\\n\\nclass idx_type {\\n\\nnamespace org.apache.common/dom_node_node_sub\\n\\nclass path-class {\\n\\nnamespace org.apache.common/dom_node_node_node_index {\\n\\nnamespace org.apache.common/dom_node_node_node_index_index\\n\\nstruct path-class path {\\n\\nstruct PathIdx {\\n\\nsize_t k;\\n\\n/* Some node id. */\\n\\nsize_t k;\\n\\n};\\n\\npath. get (PathIdx. index ());\\n\\npath. get (PathIdx. sub ());\\n\\npath. get (PathIdx. path ());\\n\\npath. get (path. name. get ());\\n\\npath. get (path. alias. get ());\\n\\npath. get (path. alias_name. get ());\\n\\npath. get (path. alias_name. sub (K, K - 1 ))\\n\\n}\\n\\npath. get (path). index (). sub (K, K-1 );\\n\\npath. get (path). get (path. alias_name. sub (K, K-1 ), k);\\n\\n\\npath;\\n\\n\\npath. get (path). get (path. alias_name. sub (K, k), k);\\n\\n\\npath. insert (path. name. sub (K, K - 1 ), k);\\n\\n\\npath. insert (path. alias_name. sub (K, k), k);\\n\\n\\npath;\\n\\n\\npath; path. insert (path. directory );\\n\\npath. insert (path. dir_name ). name. suffix (path. name. sub (K, k, k - 1'}]"
      ]
     },
     "execution_count": 11,
     "metadata": {},
     "output_type": "execute_result"
    }
   ],
   "source": [
    "result"
   ]
  }
 ],
 "metadata": {
  "kernelspec": {
   "display_name": "project-env",
   "language": "python",
   "name": "python3"
  },
  "language_info": {
   "codemirror_mode": {
    "name": "ipython",
    "version": 3
   },
   "file_extension": ".py",
   "mimetype": "text/x-python",
   "name": "python",
   "nbconvert_exporter": "python",
   "pygments_lexer": "ipython3",
   "version": "3.10.13"
  }
 },
 "nbformat": 4,
 "nbformat_minor": 2
}
