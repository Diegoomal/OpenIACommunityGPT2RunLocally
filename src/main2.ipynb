{
 "cells": [
  {
   "cell_type": "markdown",
   "metadata": {},
   "source": [
    "<h1>How to use"
   ]
  },
  {
   "cell_type": "code",
   "execution_count": 3,
   "metadata": {},
   "outputs": [],
   "source": [
    "import tqdm"
   ]
  },
  {
   "cell_type": "code",
   "execution_count": 4,
   "metadata": {},
   "outputs": [],
   "source": [
    "from transformers import pipeline, set_seed"
   ]
  },
  {
   "cell_type": "code",
   "execution_count": 5,
   "metadata": {},
   "outputs": [],
   "source": [
    "set_seed(42)"
   ]
  },
  {
   "cell_type": "markdown",
   "metadata": {},
   "source": [
    "# <h1> AAA"
   ]
  },
  {
   "cell_type": "code",
   "execution_count": 6,
   "metadata": {},
   "outputs": [],
   "source": [
    "generator = pipeline('text-generation', model='gpt2')"
   ]
  },
  {
   "cell_type": "code",
   "execution_count": 7,
   "metadata": {},
   "outputs": [],
   "source": [
    "file_content = open('../dataset/books_table_ex.html', 'r').read()"
   ]
  },
  {
   "cell_type": "code",
   "execution_count": 8,
   "metadata": {},
   "outputs": [],
   "source": [
    "prompt = f\"\"\"\n",
    "    context: <<<{ file_content[500:] }>>>\n",
    "    transform to json\n",
    "\"\"\""
   ]
  },
  {
   "cell_type": "code",
   "execution_count": 13,
   "metadata": {},
   "outputs": [],
   "source": [
    "generator = pipeline('text-generation', model='gpt2')"
   ]
  },
  {
   "cell_type": "code",
   "execution_count": 14,
   "metadata": {},
   "outputs": [
    {
     "name": "stderr",
     "output_type": "stream",
     "text": [
      "Truncation was not explicitly activated but `max_length` is provided a specific value, please use `truncation=True` to explicitly truncate examples to max length. Defaulting to 'longest_first' truncation strategy. If you encode pairs of sequences (GLUE-style) with the tokenizer you can select this strategy more precisely by providing a specific strategy to `truncation`.\n",
      "Setting `pad_token_id` to `eos_token_id`:50256 for open-end generation.\n"
     ]
    }
   ],
   "source": [
    "result = generator(prompt, max_length=1000, num_return_sequences=5)"
   ]
  },
  {
   "cell_type": "code",
   "execution_count": 15,
   "metadata": {},
   "outputs": [
    {
     "data": {
      "text/plain": [
       "[{'generated_text': '<s>[INST]<<SYS>>You are a helpful assistant<</SYS>>Generate a list of 5 funny dog names[/INST]'},\n",
       " {'generated_text': '<s>[INST]<<SYS>>You are a helpful assistant<</SYS>>Generate a list of 5 funny dog names[/INST]\\n\\n<s>[INST-4]Your name is <i>[INST-7]Your place is <i>[INST-34]You\\'re my <s>[INST-71]The house\\'s <i>[INST-95]your brother<</SYS>)\\n\\n<s>[INST-98]This place is <i>[INST-99]The place has the <i>[INST-96]The bed can\\'t fit up for both\">,<s>[INST-98]Your parents are <s>[INST-103]<</s>\\n\\n<s>[INST-98-N]Why is your family being <u>[INST-102]And it\\'s <u>[INST-101]The time for you to get out of here?\\n\\n<s>[INST-119]The place is safe</u><</s>\\n\\n<s>[INST-100]We could all go back here</u><</s>\\n\\n<s>[INST-100-N]So, <u>[INST-93>You need to stay here now and not do anything.<!--<!--><!-->\\n\\n<s>[INST-94-N]Now take the <SYS> you told me. It is a safe place</s>\\n\\n<s>[INST-95-N]Now go <u>[INST-100-N],<</u>\\n\\n<s>[INST-98-N]<</u>\\n\\n<s>[INST-98-N-N]<</u>\\n\\n<s>[INST-99-N]And <u>[INST-85>the <i>[INST-97]your house is <u>[INST-97]so that\\'s why you were doing that on <u>[INST-91]\\n\\n<s>[INST-95-N]And we said <u>[INST-94-N]But they were doing it because<u>[INST-86>they want to make money.\\n\\n<s>[INST-95-N-N]And everyone else is not even <u>[INST-83>they are trying to be rude. They talk and say things</u>\\n\\n<s>[INST-87-N]And that is why you wanted to go there.\\n\\n<s>[INST-101-N]I\\'m still here</u><</s>\\n\\n<s>[INST-101-N-N]</u>\\n\\n<s>[INST-102-N]<</u>\\n\\n<s>[INST-104-N]My parents said it should be <u>[INST-86]</u>\\n\\n<s>[INST-106-N]</u>\\n\\n<s>[INST-108-N]</u>\\n\\n<s>[INST-110-N]</u>\\n\\n<s>[INST-112-N]</u>\\n\\n<s>[INST-113-N]</u>\\n\\n<s>\\n\\n<u>[INST-40>What do you think you are doing outside here?<u>[INST-46]There is too much of <u>[INST-48]<</u>\\n\\n<u>[INST-60>Well, that seems about right. <u>[INST-62>you have the best house <u>[INST-55>that\\'s <u>[INST-52>a lot of people</u> there...\\n\\n<u>[INST-59>You should get to <u>[INST-45>do stuff in there more?\"</u>\\n\\n<u>[INST-48>What do you mean by <u>[INST-47?>that is…</u>\\n\\n<u>[INST-45>How does one get access to a <i>[INST-48]place?</i> that\\'s <u>[INST-45>a <u>[INST-48>thing</u> that was once mine</u>?</u></s>\\n\\n<u>[INST-45>Why <u>[INST-47>the <i>[INST-47 >house</i> is <u>[INST-45>you\\'re <u>[INST-47>being <i>[INST-42>well</i> here. Don\\'t they even care about my place?</u></u>?</u>?</u>?]>\\n\\n<u>[INST-42>So are you going to start playing video games again this year here?</u>\\n\\n<i>[INST'},\n",
       " {'generated_text': '<s>[INST]<<SYS>>You are a helpful assistant<</SYS>>Generate a list of 5 funny dog names[/INST] ------------------------------------------------------------------------------- [INST]/Dogs/DogsOfDeath-7.099.0.tar.bz2 [INST]/Dogs/DogsOfDeath-7.099.0_x86_64_1.z.tar.bz2 - (zip)|gpg record, 5, | (x86)unknown| (--)unknown\\n\\nRAW Paste Data\\n\\nVersion 1.5-SNAPSHOT ============================================ 1.5* Bugfix: Fix problem with a random.zip file [INST]/Dogs/DogsOfdeath-7.099.0_x86_64_1.z.tar.bz2 * Bugfix: Fix bug with a number of random objects [INST]/Dogs/DogsOfDeath-7.099.0_x86_64_1.z.tar.bz2 | (x86)unknown| [INST]/Dogs/DogsOfDeath-7.099.0_x86_64_1.z | (--)unknown * Bugfix: Fix issue with random.zip file [INST]/Dogs/DogsOfDeath-7.099.0_x86_64_1.z *** Bugfix: Fix issue with random.zip file when opening zip file [INST]/Dogs/DogsOfDeath-7.099.0_x86_64_1.z.tar *** Bugfix: Fix game crash whenever opening a zip file in different folders [INST]/Dogs/DogsOfDeath-7.099.0_x86_64_1.z.tar.bz2 [INST]/Dogs/DogsOfDeath-7.099.0_x86_64_1.z| (--)unknown | (--)unknown [INST]/Dogs/DogsOfDeath-7.099.0_x86_64_1.z | (--)unknown | (--)unknown *** Bugfix: Fix game crash when opening a zip file in different folders [INST]/Dogs/DogsOfDeath-7.099.0_x86_64_1.z *** Bugfix: Fix issue with random.zip file when opening zip file [INST]/Dogs/DogsOfDeath-7.099.0_x86_64_1.z *** Bugfix: Fix issue with random.zip file when opening zip file [INST]/Dogs/DogsOfDeath-7.099.0_x86_64_1.z.tar *** Bugfix: Fix game crash when opening zip file in different folders [INST]/Dogs/DogsOfDeath-7.099.0_x86_64_1.z ---------------------------------------- [INST]/Dogs/DogsOfDeath-7.099.0_x64_1.z;_ (--)unknown | (--)unknown | ============================================ [[INST]/Dogs/DogsOfDeath-7.099.0_x64_1.z;| (--)unknown |_ (--)unknown |_ ---------------------------------------- <SYS> [INST]: [INST]/Dogs/DogsOfDeath-7.099.0_x86_64_1.z [INST]/Dogs/DogsOfDeath-7.099.0_x64_1_x86 [INST]/Dogs/Dogs_Death-7.099.0_x64_1_x86- (zip) [INST]/Dogs/DogsOfDeath-7.099.0_x86_64_1_x86- (x86) [INST]/Dogs/Dogs/DogsOfDeath-7.099.0_x86_64_1_x86 [INST]/Dogs/DogsOfDeath-7.099.0_x86_64_1_z- (zip) [[INST]/dogs/DogsOfDeath-7.099.0_x86_64_1.z] [INST]/dogs/dogs/DogsOfDeath-7.099.0_gvds-x86-6.z1.1.3_x86-6.z1.1.3_x86-6.z1.1.3_x86-6.z'},\n",
       " {'generated_text': '<s>[INST]<<SYS>>You are a helpful assistant<</SYS>>Generate a list of 5 funny dog names[/INST] <f8>{s<<#s&#<s<<#s&#SYS>>You are the next to be put in a house.><|s<<#s&#<s<<#s&#SYS>>You should be ready to go to the beginning of town.</|s<<|s<<#s&#<s<<#SYS>></| |#s<<#s&#<s<<#s&#SYS>></] </f] </s> If you want the following rules to apply, edit the end of the code to take care of the following: <f8>{s<<#s&#<s<<#s&#SYS>>You should have been hired <|s<<#s&#<s<<#s&#SYS>>You are the next to be hired to work at a house.</|s<<|s<<#s&#<s<<#s&#SYS>></] <s>{s<<#s&#<s<<#s&#SYS>></|s<<|s<<|s<<s<ss>>> {s} + {s\"\\\\\\\\|\",\"\\\\\\\\\"} |</s><| <<#s&#<#s<ss>> {s\"} + {s\"}}</} <s>{s}{#s&#\"\\\\\\\\||{SYS}\" |#s||{ss}{} ==\\n\\nRAW Paste Data\\n\\n########### Welcome [SOCKSING SYSTEM] [OPTIONS] [DESCRIPTION] [GENERAL] [CREATOR] [FUTURE SYSTEM] # [FAST FACTION] [STOP] [FEEBACK] [REPORT] # [RECHARGE] # [PROBLEM] [MISCELLANEOUS] [[FUTUROUS] [[FULLY BORED]] # ##### ##[INSTANCING][LANGUAGE_TRANSMES_EX] ## Instancing / Creating LANGUAGES # ### Instancing and Creating Namespaces to use when working with namespaces # ## ## Instancing to use in Windows 8 with Windows Server 2012 # ### Instancing namespaces to use when creating OS X X # ## ### Instancing, and Namespaces, in OS X 10.6 ## ### Instancing\\n\\nRAW Paste Data\\n\\n########### Welcome [OSX] [Install/Configuring a Host] [SYSTEM_RELEASE_BASE] ## Instancing OS X/Windows 8 ### Instancing OS X/Linux # ## ################################################################################## # Install OS X ## ################################################################################## Instancing to install OS X # ## All OS X installs will still need $LANGUAGE_TRANSMES $DISPLAY_DISPLAY -n $LANGUILD_FILS $CONFIG_DIR $REINSTALL_PATH $PROTONCE_RPC_VERSION $BASE_NAME ## ## Configuration\\n\\nRAW Paste Data\\n\\n########## Welcome [OSX] [Install/Configuring a Mounting Environment] [SYSTEM_RELEASE_BASE] # # Configuring Mounting Environment for Windows ## # ## Setting a Mounting Environment for Windows ## ## ## Set a default mount point ## ## # ############################################################################### ## Mounting Environment ### ########## # Installing and Configuring Settings ### # ## Installing Setup Settings ### # ## ############################################################################### ## System Setup ### ########## Configuration # # ## ############################################################################### ## ############################################################################### ## Install Settings ### # ## ############################################################################### ## # ############################################################################### ## ############################################################################### ## # # ############################################################################### ## ## Name ########## Setting an environment to an environment to use ## # ## ############################################################################### -r [username,password] -- [domain] [user] [*] -h $USER -k $PASSWORD -t \"${SYS.PWD}\" {DATABASE;} ### # ## ############################################################################### ## Environment Parameters # # ############################################################################### -P /Library/LaunchAgents/system $HOME ## # ## ### ### ## #####+ \\\\ #####= ## [OSX] |########+ |[System.Name] <Directory> <Folder Name> <Application Name> <User Name> ## # |########|########|########| #####+ /Library/LaunchAgents/System/Library/LaunchAgents.desktop.samba\\n\\n'},\n",
       " {'generated_text': \"<s>[INST]<<SYS>>You are a helpful assistant<</SYS>>Generate a list of 5 funny dog names[/INST]<br><br>The funniest thing of all is you are the one who gets to read a list of funny pets!</br><br>The funniest thing to do on vacation, is just sit there while your friend and I do this<br><br>The funniest thing are you never get a puppy></br><br>The best thing about reading this is that you feel like you know what your dog is talking about, and it's pretty easy!\"}]"
      ]
     },
     "execution_count": 15,
     "metadata": {},
     "output_type": "execute_result"
    }
   ],
   "source": [
    "result"
   ]
  },
  {
   "cell_type": "markdown",
   "metadata": {},
   "source": [
    "# <h1> BBB"
   ]
  },
  {
   "cell_type": "code",
   "execution_count": null,
   "metadata": {},
   "outputs": [],
   "source": [
    "# system_message = \"You are a helpful assistant\"\n",
    "# user_message = \"Generate a list of 5 funny dog names\"\n",
    "# prompt = f\"<s>[INST]<<SYS>>{ system_message }<</SYS>>{ user_message }[/INST]\""
   ]
  },
  {
   "cell_type": "code",
   "execution_count": 19,
   "metadata": {},
   "outputs": [
    {
     "name": "stderr",
     "output_type": "stream",
     "text": [
      "Some weights of GPT2ForQuestionAnswering were not initialized from the model checkpoint at gpt2 and are newly initialized: ['qa_outputs.bias', 'qa_outputs.weight']\n",
      "You should probably TRAIN this model on a down-stream task to be able to use it for predictions and inference.\n"
     ]
    }
   ],
   "source": [
    "question_answerer = pipeline('question-answering', model='gpt2')"
   ]
  },
  {
   "cell_type": "code",
   "execution_count": 20,
   "metadata": {},
   "outputs": [],
   "source": [
    "result = question_answerer(context=\"Albert Einstein was a German physicist.\", question=\"Who was Albert Einstein?\")"
   ]
  },
  {
   "cell_type": "code",
   "execution_count": 21,
   "metadata": {},
   "outputs": [
    {
     "data": {
      "text/plain": [
       "{'score': 0.13732802867889404,\n",
       " 'start': 19,\n",
       " 'end': 39,\n",
       " 'answer': ' a German physicist.'}"
      ]
     },
     "execution_count": 21,
     "metadata": {},
     "output_type": "execute_result"
    }
   ],
   "source": [
    "result"
   ]
  }
 ],
 "metadata": {
  "kernelspec": {
   "display_name": "project-env",
   "language": "python",
   "name": "python3"
  },
  "language_info": {
   "codemirror_mode": {
    "name": "ipython",
    "version": 3
   },
   "file_extension": ".py",
   "mimetype": "text/x-python",
   "name": "python",
   "nbconvert_exporter": "python",
   "pygments_lexer": "ipython3",
   "version": "3.10.13"
  }
 },
 "nbformat": 4,
 "nbformat_minor": 2
}
